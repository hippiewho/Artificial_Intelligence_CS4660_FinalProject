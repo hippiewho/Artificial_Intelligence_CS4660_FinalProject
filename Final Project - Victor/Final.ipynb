{
 "cells": [
  {
   "cell_type": "code",
   "execution_count": 258,
   "metadata": {},
   "outputs": [
    {
     "name": "stdout",
     "output_type": "stream",
     "text": [
      "Files loaded\n",
      "*******\n",
      "\n",
      "Contours Obtained\n",
      "*******\n",
      "\n",
      "\n",
      "\n",
      "Obtained points to plot\n",
      "*******\n",
      "\n",
      "accuracy: 0.636363636364\n"
     ]
    }
   ],
   "source": [
    "import os \n",
    "import glob\n",
    "import cv2\n",
    "import matplotlib.pyplot as plt\n",
    "import numpy as np\n",
    "from sklearn.cross_validation import train_test_split\n",
    "from sklearn.neighbors import KNeighborsClassifier\n",
    "from sklearn.metrics import accuracy_score\n",
    "\n",
    "def get_files():\n",
    "    path1 = glob.glob(\"ast/*.jpg\")\n",
    "    path2 = glob.glob(\"norm/*.jpg\")\n",
    "    path3 = glob.glob(\"kera/*.jpg\")\n",
    "    \n",
    "\n",
    "    norm = []\n",
    "    ast = []\n",
    "    kera = []\n",
    "    \n",
    "    for filename in path1:\n",
    "        im1 = cv2.imread(filename)\n",
    "        Rim1 = cv2.resize(im1, (100, 100)) \n",
    "        img1 = cv2.cvtColor(Rim1, cv2.COLOR_BGR2GRAY)\n",
    "        flag1, bImg1 = cv2.threshold(img1, 85, 255, cv2.THRESH_BINARY + cv2.THRESH_OTSU )\n",
    "        ast.append(bImg1)\n",
    "        \n",
    "    for filename in path2:\n",
    "        im2 = cv2.imread(filename)\n",
    "        Rim2 = cv2.resize(im2, (100, 100))\n",
    "        img2 = cv2.cvtColor(Rim2, cv2.COLOR_BGR2GRAY)\n",
    "        flag1, bImg2 = cv2.threshold(img2, 85, 255, cv2.THRESH_BINARY + cv2.THRESH_OTSU )\n",
    "        ret, mask1 = cv2.threshold(bImg2, 10, 255, cv2.THRESH_BINARY)\n",
    "        mask1a = cv2.bitwise_not(mask1)\n",
    "        norm.append(mask1a)\n",
    "        \n",
    "    for filename in path3:\n",
    "        im3 = cv2.imread(filename)\n",
    "        Rim3 = cv2.resize(im3, (100, 100))\n",
    "        img3 = cv2.cvtColor(Rim3, cv2.COLOR_BGR2GRAY)\n",
    "        flag1, bImg3 = cv2.threshold(img3, 85, 255, cv2.THRESH_BINARY + cv2.THRESH_OTSU )\n",
    "        ret, mask2 = cv2.threshold(bImg3, 10, 255, cv2.THRESH_BINARY)\n",
    "        mask2a = cv2.bitwise_not(mask2)\n",
    "        kera.append(mask2a)\n",
    "        \n",
    "    return ast, norm, kera\n",
    "\n",
    "x, y, z = get_files()\n",
    "print(\"Files loaded\")\n",
    "print(\"*******\\n\")\n",
    "\n",
    "\n",
    "def get_contours(x):\n",
    "    contours = []\n",
    "    for i in x:\n",
    "        bim1, contours1, hierarchy1 = cv2.findContours(i,cv2.RETR_TREE,cv2.CHAIN_APPROX_SIMPLE)\n",
    "        contours.append(contours1)\n",
    "    return contours\n",
    "    \n",
    "xx = get_contours(x)\n",
    "yy = get_contours(y)\n",
    "zz = get_contours(z)\n",
    "print(\"Contours Obtained\")\n",
    "print(\"*******\\n\")\n",
    "\n",
    "def contours_to_points(contours, eye):\n",
    "    points = []\n",
    "\n",
    "    for i in contours:\n",
    "        maxim =[0,0,0]\n",
    "        for j in i:\n",
    "            if cv2.contourArea(j) > maxim[0]:\n",
    "                maxim = [cv2.contourArea(j), cv2.arcLength(j, True), eye]\n",
    "        points.append(maxim)\n",
    "    return points\n",
    "\n",
    "xxx = contours_to_points(xx, 1)\n",
    "yyy = contours_to_points(yy, 0)\n",
    "zzz = contours_to_points(zz, 2)\n",
    "\n",
    "\n",
    "print(\"\\n\")    \n",
    "print(\"Obtained points to plot\")\n",
    "print(\"*******\\n\")\n",
    "\n",
    "#All three comparisons\n",
    "\n",
    "np_size = len(xxx) + len(yyy) + len(zzz)\n",
    "np_array = np.zeros(shape = (np_size, 3))\n",
    "\n",
    "i = 0\n",
    "for p in xxx:\n",
    "    np_array[i] = p\n",
    "    i += 1\n",
    "    \n",
    "for p in yyy:\n",
    "    np_array[i] = p\n",
    "    i += 1\n",
    "\n",
    "for p in zzz:\n",
    "    np_array[i] = p\n",
    "    i += 1\n",
    "\n",
    "responses = np.zeros(shape=(i, 1))\n",
    "\n",
    "i = 0\n",
    "\n",
    "for x in xxx:\n",
    "    responses[i] = 1\n",
    "    i += 1\n",
    "    \n",
    "for y in yyy:\n",
    "    responses[i] = 0\n",
    "    i += 1\n",
    "\n",
    "for z in zzz:\n",
    "    responses[i] = 2\n",
    "    i += 1\n",
    "    \n",
    "    \n",
    "eye_data_x = np_array[:, 1:]\n",
    "eye_data_y = np_array[:, 2]\n",
    "\n",
    "X_train, X_test, y_train, y_test = train_test_split(eye_data_x, eye_data_y, test_size=0.33)\n",
    "neigh = KNeighborsClassifier(n_neighbors=3)\n",
    "neigh.fit(X_train, y_train)\n",
    "y_predict = neigh.predict(X_test)\n",
    "print(\"accuracy:\", accuracy_score(y_test, y_predict))   \n",
    "\n",
    "\n"
   ]
  },
  {
   "cell_type": "code",
   "execution_count": 259,
   "metadata": {},
   "outputs": [
    {
     "data": {
      "image/png": "[encoded data removed]",
      "text/plain": [
       "<matplotlib.figure.Figure at 0x2598ee3d4e0>"
      ]
     },
     "metadata": {},
     "output_type": "display_data"
    }
   ],
   "source": [
    "red = np_array[responses.ravel()==0]\n",
    "plt.scatter(red[:,0],red[:,1],80,'r','^')\n",
    "\n",
    "blue = np_array[responses.ravel()==1]\n",
    "plt.scatter(blue[:,0],blue[:,1],80,'b','s')\n",
    "\n",
    "green = np_array[responses.ravel()==2]\n",
    "plt.scatter(green[:,0],green[:,1],80,'g','o')\n",
    "\n",
    "plt.show()"
   ]
  },
  {
   "cell_type": "code",
   "execution_count": 262,
   "metadata": {},
   "outputs": [
    {
     "name": "stdout",
     "output_type": "stream",
     "text": [
      "accuracy of Astigmatism to Keratonocus: 0.857142857143\n"
     ]
    }
   ],
   "source": [
    "#1 to 1 comparisons\n",
    "#Compare Ast/Kera\n",
    "#x = ast, z= kera\n",
    "\n",
    "ast_kera_size = len(xxx) + len(zzz)\n",
    "ast_kera_array = np.zeros(shape = (ast_kera_size, 3))\n",
    "\n",
    "j = 0 \n",
    "\n",
    "for p in xxx:\n",
    "    ast_kera_array[j] = p\n",
    "    j += 1\n",
    "    \n",
    "for p in zzz:\n",
    "    ast_kera_array[j] = p\n",
    "    j += 1\n",
    "\n",
    "a_k_responses = np.zeros(shape=(j,1))\n",
    "\n",
    "j = 0;\n",
    "\n",
    "for x in xxx:\n",
    "    a_k_responses[j] = 1\n",
    "    j += 1\n",
    "    \n",
    "for z in zzz:\n",
    "    a_k_responses[j] = 2\n",
    "    j += 1\n",
    "\n",
    "ak_eye_data_x = ast_kera_array[:, 1:]\n",
    "ak_eye_data_y = ast_kera_array[:, 2]\n",
    "\n",
    "ak_X_train, ak_X_test, ak_y_train, ak_y_test = train_test_split(ak_eye_data_x, ak_eye_data_y, test_size=0.33)\n",
    "ak_neigh = KNeighborsClassifier(n_neighbors=3)\n",
    "ak_neigh.fit(ak_X_train, ak_y_train)\n",
    "ak_y_predict = ak_neigh.predict(ak_X_test)\n",
    "print(\"accuracy of Astigmatism to Keratonocus:\", accuracy_score(ak_y_test, ak_y_predict))"
   ]
  },
  {
   "cell_type": "code",
   "execution_count": 263,
   "metadata": {},
   "outputs": [
    {
     "data": {
      "image/png": "[encoded data removed]",
      "text/plain": [
       "<matplotlib.figure.Figure at 0x2598e34f630>"
      ]
     },
     "metadata": {},
     "output_type": "display_data"
    }
   ],
   "source": [
    "blue = ast_kera_array[a_k_responses.ravel()==1]\n",
    "plt.scatter(blue[:,0],blue[:,1],80,'b','s')\n",
    "\n",
    "green = ast_kera_array[a_k_responses.ravel()==2]\n",
    "plt.scatter(green[:,0],green[:,1],80,'g','o')\n",
    "\n",
    "plt.show()"
   ]
  },
  {
   "cell_type": "code",
   "execution_count": 308,
   "metadata": {},
   "outputs": [
    {
     "name": "stdout",
     "output_type": "stream",
     "text": [
      "Accuracy of Normal/Keratonocus: 0.52380952381\n"
     ]
    }
   ],
   "source": [
    "#Compare kera/Norm\n",
    "# z = kera, y = norm\n",
    "\n",
    "norm_kera_size = len(yyy) + len(zzz)\n",
    "norm_kera_array = np.zeros(shape = (norm_kera_size, 3))\n",
    "\n",
    "k = 0 \n",
    "\n",
    "for p in yyy:\n",
    "    norm_kera_array[k] = p\n",
    "    k += 1\n",
    "    \n",
    "for p in zzz:\n",
    "    norm_kera_array[k] = p\n",
    "    k += 1\n",
    "\n",
    "n_k_responses = np.zeros(shape=(k,1))\n",
    "\n",
    "k = 0;\n",
    "\n",
    "for y in yyy:\n",
    "    n_k_responses[k] = 0\n",
    "    k += 1\n",
    "    \n",
    "for z in zzz:\n",
    "    n_k_responses[k] = 2\n",
    "    k += 1\n",
    "    \n",
    "nk_eye_data_x = norm_kera_array[:, 1:]\n",
    "nk_eye_data_y = norm_kera_array[:, 2]\n",
    "\n",
    "nk_X_train, nk_X_test, nk_y_train, nk_y_test = train_test_split(nk_eye_data_x, nk_eye_data_y, test_size=0.33)\n",
    "nk_neigh = KNeighborsClassifier(n_neighbors=3)\n",
    "nk_neigh.fit(nk_X_train, nk_y_train)\n",
    "nk_y_predict = nk_neigh.predict(nk_X_test)\n",
    "print(\"Accuracy of Normal/Keratonocus:\", accuracy_score(nk_y_test, nk_y_predict))"
   ]
  },
  {
   "cell_type": "code",
   "execution_count": 287,
   "metadata": {},
   "outputs": [
    {
     "data": {
      "image/png": "[encoded data removed]",
      "text/plain": [
       "<matplotlib.figure.Figure at 0x2598e3e0e80>"
      ]
     },
     "metadata": {},
     "output_type": "display_data"
    }
   ],
   "source": [
    "red = norm_kera_array[n_k_responses.ravel()==0]\n",
    "plt.scatter(red[:,0],red[:,1],80,'r','^')\n",
    "\n",
    "green = norm_kera_array[n_k_responses.ravel()==2]\n",
    "plt.scatter(green[:,0],green[:,1],80,'g','o')\n",
    "\n",
    "plt.show()"
   ]
  },
  {
   "cell_type": "code",
   "execution_count": 288,
   "metadata": {},
   "outputs": [
    {
     "name": "stdout",
     "output_type": "stream",
     "text": [
      "Accuracy of Normal/Keratonocus: 0.882352941176\n"
     ]
    }
   ],
   "source": [
    "#compare Ast/Norm\n",
    "#x = Ast / y = Norm\n",
    "ast_norm_size = len(xxx) + len(yyy)\n",
    "ast_norm_array = np.zeros(shape = (norm_kera_size, 3))\n",
    "\n",
    "l = 0\n",
    "\n",
    "ast_norm_size = len(xxx) + len(yyy)\n",
    "ast_norm_array = np.zeros(shape=(ast_norm_size, 3))\n",
    "\n",
    "for x in xxx:\n",
    "    ast_norm_array[l] = x\n",
    "    l += 1\n",
    "    \n",
    "for y in yyy:\n",
    "    ast_norm_array[l] = y\n",
    "    l += 1\n",
    "    \n",
    "\n",
    "n_a_responses = np.zeros(shape=(l, 1))\n",
    "l = 0\n",
    "\n",
    "for x in xxx:\n",
    "    n_a_responses[l] = 1\n",
    "    l += 1\n",
    "    \n",
    "for y in yyy:\n",
    "    n_a_responses[l] = 0\n",
    "    l += 1\n",
    "    \n",
    "na_eye_data_x = ast_norm_array[:, 1:]\n",
    "na_eye_data_y = ast_norm_array[:, 2]\n",
    "\n",
    "na_X_train, na_X_test, na_y_train, na_y_test = train_test_split(na_eye_data_x, na_eye_data_y, test_size=0.33)\n",
    "na_neigh = KNeighborsClassifier(n_neighbors=3)\n",
    "na_neigh.fit(na_X_train, na_y_train)\n",
    "na_y_predict = na_neigh.predict(na_X_test)\n",
    "print(\"Accuracy of Normal/Keratonocus:\", accuracy_score(na_y_test, na_y_predict))\n",
    "\n"
   ]
  },
  {
   "cell_type": "code",
   "execution_count": 289,
   "metadata": {},
   "outputs": [
    {
     "data": {
      "image/png": "[encoded data removed]",
      "text/plain": [
       "<matplotlib.figure.Figure at 0x2598ef0ec88>"
      ]
     },
     "metadata": {},
     "output_type": "display_data"
    }
   ],
   "source": [
    "red = ast_norm_array[n_a_responses.ravel()==0]\n",
    "plt.scatter(red[:,0],red[:,1],80,'r','^')\n",
    "\n",
    "blue = ast_norm_array[n_a_responses.ravel()==1]\n",
    "plt.scatter(blue[:,0],blue[:,1],80,'b','s')\n",
    "\n",
    "plt.show()\n"
   ]
  }
 ],
 "metadata": {
  "kernelspec": {
   "display_name": "Python 3",
   "language": "python",
   "name": "python3"
  },
  "language_info": {
   "codemirror_mode": {
    "name": "ipython",
    "version": 3
   },
   "file_extension": ".py",
   "mimetype": "text/x-python",
   "name": "python",
   "nbconvert_exporter": "python",
   "pygments_lexer": "ipython3",
   "version": "3.6.2"
  }
 },
 "nbformat": 4,
 "nbformat_minor": 2
}
